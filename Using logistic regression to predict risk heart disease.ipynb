{
 "cells": [
  {
   "attachments": {},
   "cell_type": "markdown",
   "metadata": {},
   "source": [
    "# Using logistic regression to predict risk heart disease"
   ]
  },
  {
   "cell_type": "code",
   "execution_count": 2,
   "metadata": {},
   "outputs": [],
   "source": [
    "import pandas as pd \n",
    "import numpy as np\n",
    "pd.set_option('display.max_columns', None)"
   ]
  },
  {
   "cell_type": "code",
   "execution_count": 3,
   "metadata": {},
   "outputs": [
    {
     "data": {
      "text/html": [
       "<div>\n",
       "<style scoped>\n",
       "    .dataframe tbody tr th:only-of-type {\n",
       "        vertical-align: middle;\n",
       "    }\n",
       "\n",
       "    .dataframe tbody tr th {\n",
       "        vertical-align: top;\n",
       "    }\n",
       "\n",
       "    .dataframe thead th {\n",
       "        text-align: right;\n",
       "    }\n",
       "</style>\n",
       "<table border=\"1\" class=\"dataframe\">\n",
       "  <thead>\n",
       "    <tr style=\"text-align: right;\">\n",
       "      <th></th>\n",
       "      <th>Gender</th>\n",
       "      <th>age</th>\n",
       "      <th>education</th>\n",
       "      <th>currentSmoker</th>\n",
       "      <th>cigsPerDay</th>\n",
       "      <th>BPMeds</th>\n",
       "      <th>prevalentStroke</th>\n",
       "      <th>prevalentHyp</th>\n",
       "      <th>diabetes</th>\n",
       "      <th>totChol</th>\n",
       "      <th>sysBP</th>\n",
       "      <th>diaBP</th>\n",
       "      <th>BMI</th>\n",
       "      <th>heartRate</th>\n",
       "      <th>glucose</th>\n",
       "      <th>Heart_ stroke</th>\n",
       "    </tr>\n",
       "  </thead>\n",
       "  <tbody>\n",
       "    <tr>\n",
       "      <th>0</th>\n",
       "      <td>Male</td>\n",
       "      <td>39</td>\n",
       "      <td>postgraduate</td>\n",
       "      <td>0</td>\n",
       "      <td>0.0</td>\n",
       "      <td>0.0</td>\n",
       "      <td>no</td>\n",
       "      <td>0</td>\n",
       "      <td>0</td>\n",
       "      <td>195.0</td>\n",
       "      <td>106.0</td>\n",
       "      <td>70.0</td>\n",
       "      <td>26.97</td>\n",
       "      <td>80.0</td>\n",
       "      <td>77.0</td>\n",
       "      <td>No</td>\n",
       "    </tr>\n",
       "    <tr>\n",
       "      <th>1</th>\n",
       "      <td>Female</td>\n",
       "      <td>46</td>\n",
       "      <td>primaryschool</td>\n",
       "      <td>0</td>\n",
       "      <td>0.0</td>\n",
       "      <td>0.0</td>\n",
       "      <td>no</td>\n",
       "      <td>0</td>\n",
       "      <td>0</td>\n",
       "      <td>250.0</td>\n",
       "      <td>121.0</td>\n",
       "      <td>81.0</td>\n",
       "      <td>28.73</td>\n",
       "      <td>95.0</td>\n",
       "      <td>76.0</td>\n",
       "      <td>No</td>\n",
       "    </tr>\n",
       "    <tr>\n",
       "      <th>2</th>\n",
       "      <td>Male</td>\n",
       "      <td>48</td>\n",
       "      <td>uneducated</td>\n",
       "      <td>1</td>\n",
       "      <td>20.0</td>\n",
       "      <td>0.0</td>\n",
       "      <td>no</td>\n",
       "      <td>0</td>\n",
       "      <td>0</td>\n",
       "      <td>245.0</td>\n",
       "      <td>127.5</td>\n",
       "      <td>80.0</td>\n",
       "      <td>25.34</td>\n",
       "      <td>75.0</td>\n",
       "      <td>70.0</td>\n",
       "      <td>No</td>\n",
       "    </tr>\n",
       "    <tr>\n",
       "      <th>3</th>\n",
       "      <td>Female</td>\n",
       "      <td>61</td>\n",
       "      <td>graduate</td>\n",
       "      <td>1</td>\n",
       "      <td>30.0</td>\n",
       "      <td>0.0</td>\n",
       "      <td>no</td>\n",
       "      <td>1</td>\n",
       "      <td>0</td>\n",
       "      <td>225.0</td>\n",
       "      <td>150.0</td>\n",
       "      <td>95.0</td>\n",
       "      <td>28.58</td>\n",
       "      <td>65.0</td>\n",
       "      <td>103.0</td>\n",
       "      <td>yes</td>\n",
       "    </tr>\n",
       "    <tr>\n",
       "      <th>4</th>\n",
       "      <td>Female</td>\n",
       "      <td>46</td>\n",
       "      <td>graduate</td>\n",
       "      <td>1</td>\n",
       "      <td>23.0</td>\n",
       "      <td>0.0</td>\n",
       "      <td>no</td>\n",
       "      <td>0</td>\n",
       "      <td>0</td>\n",
       "      <td>285.0</td>\n",
       "      <td>130.0</td>\n",
       "      <td>84.0</td>\n",
       "      <td>23.10</td>\n",
       "      <td>85.0</td>\n",
       "      <td>85.0</td>\n",
       "      <td>No</td>\n",
       "    </tr>\n",
       "  </tbody>\n",
       "</table>\n",
       "</div>"
      ],
      "text/plain": [
       "   Gender  age      education  currentSmoker  cigsPerDay  BPMeds  \\\n",
       "0    Male   39   postgraduate              0         0.0     0.0   \n",
       "1  Female   46  primaryschool              0         0.0     0.0   \n",
       "2    Male   48     uneducated              1        20.0     0.0   \n",
       "3  Female   61       graduate              1        30.0     0.0   \n",
       "4  Female   46       graduate              1        23.0     0.0   \n",
       "\n",
       "  prevalentStroke  prevalentHyp  diabetes  totChol  sysBP  diaBP    BMI  \\\n",
       "0              no             0         0    195.0  106.0   70.0  26.97   \n",
       "1              no             0         0    250.0  121.0   81.0  28.73   \n",
       "2              no             0         0    245.0  127.5   80.0  25.34   \n",
       "3              no             1         0    225.0  150.0   95.0  28.58   \n",
       "4              no             0         0    285.0  130.0   84.0  23.10   \n",
       "\n",
       "   heartRate  glucose Heart_ stroke  \n",
       "0       80.0     77.0            No  \n",
       "1       95.0     76.0            No  \n",
       "2       75.0     70.0            No  \n",
       "3       65.0    103.0           yes  \n",
       "4       85.0     85.0            No  "
      ]
     },
     "execution_count": 3,
     "metadata": {},
     "output_type": "execute_result"
    }
   ],
   "source": [
    "df = pd.read_csv('heart_disease.csv')\n",
    "df.head()"
   ]
  },
  {
   "cell_type": "code",
   "execution_count": 4,
   "metadata": {},
   "outputs": [
    {
     "name": "stdout",
     "output_type": "stream",
     "text": [
      "<class 'pandas.core.frame.DataFrame'>\n",
      "RangeIndex: 4238 entries, 0 to 4237\n",
      "Data columns (total 16 columns):\n",
      " #   Column           Non-Null Count  Dtype  \n",
      "---  ------           --------------  -----  \n",
      " 0   Gender           4238 non-null   object \n",
      " 1   age              4238 non-null   int64  \n",
      " 2   education        4133 non-null   object \n",
      " 3   currentSmoker    4238 non-null   int64  \n",
      " 4   cigsPerDay       4209 non-null   float64\n",
      " 5   BPMeds           4185 non-null   float64\n",
      " 6   prevalentStroke  4238 non-null   object \n",
      " 7   prevalentHyp     4238 non-null   int64  \n",
      " 8   diabetes         4238 non-null   int64  \n",
      " 9   totChol          4188 non-null   float64\n",
      " 10  sysBP            4238 non-null   float64\n",
      " 11  diaBP            4238 non-null   float64\n",
      " 12  BMI              4219 non-null   float64\n",
      " 13  heartRate        4237 non-null   float64\n",
      " 14  glucose          3850 non-null   float64\n",
      " 15  Heart_ stroke    4238 non-null   object \n",
      "dtypes: float64(8), int64(4), object(4)\n",
      "memory usage: 529.9+ KB\n"
     ]
    }
   ],
   "source": [
    "df.info()"
   ]
  },
  {
   "cell_type": "code",
   "execution_count": 5,
   "metadata": {},
   "outputs": [
    {
     "data": {
      "text/plain": [
       "['education', 'cigsPerDay', 'BPMeds', 'totChol', 'BMI', 'heartRate', 'glucose']"
      ]
     },
     "execution_count": 5,
     "metadata": {},
     "output_type": "execute_result"
    }
   ],
   "source": [
    "# Identify missing values\n",
    "missing_values = df.isnull().sum()\n",
    "cols_with_missing = df.columns[df.isnull().any()].tolist()\n",
    "cols_with_missing"
   ]
  },
  {
   "attachments": {},
   "cell_type": "markdown",
   "metadata": {},
   "source": [
    "Using imputation the process of filling in misssing data with estimated values. "
   ]
  },
  {
   "cell_type": "code",
   "execution_count": 6,
   "metadata": {},
   "outputs": [],
   "source": [
    "from sklearn.impute import SimpleImputer\n",
    "\n",
    "# choose imputation strategies for numeric columns\n",
    "imputer = SimpleImputer(missing_values=np.nan, strategy='most_frequent')\n",
    "\n",
    "# separate numeric columns\n",
    "numeric_columns = ['cigsPerDay', 'BPMeds', 'totChol', 'BMI', 'heartRate', 'glucose']\n",
    "\n",
    "# impute missing values in numeric columns\n",
    "imputer.fit(df[numeric_columns])\n",
    "imputed_numeric_data = imputer.transform(df[numeric_columns])\n"
   ]
  },
  {
   "cell_type": "code",
   "execution_count": 21,
   "metadata": {},
   "outputs": [],
   "source": [
    "# concatenate imputed data and create a new DataFrame\n",
    "imputed_df = pd.DataFrame(imputed_numeric_data, columns=numeric_columns)\n",
    "\n",
    "# concatenate the imputed data with the original DataFrame\n",
    "imputed_df = pd.concat([df.drop(columns=numeric_columns), imputed_df], axis=1)"
   ]
  },
  {
   "attachments": {},
   "cell_type": "markdown",
   "metadata": {},
   "source": [
    "Checking for variance in imputed data is important because imputation can potentially affect the distribution of the data and its variability, which in turn can affect the performance of downstream machine learning models.\n",
    "\n",
    "Imputation methods such as mean, median or mode imputation can change the distribution of the data by replacing missing values with a single value or a few values, which can affect the statistical properties of the data. For example, mean imputation can lead to a shift in the mean of the data, while mode imputation can cause a change in the mode of the data.\n",
    "\n",
    "Additionally, imputation can reduce the variability of the data by introducing less variability compared to the original data. This can result in the loss of information and can impact the model's ability to capture patterns and relationships in the data.\n",
    "\n",
    "Therefore, it is important to check the variance of imputed data to assess the extent to which imputation has affected the distribution and variability of the data. If the variance of imputed data is significantly different from the original data, it may indicate that the imputation method used has introduced bias or reduced the information content of the data. In such cases, it may be necessary to consider using a different imputation method or explore other options to handle missing values.\n"
   ]
  },
  {
   "cell_type": "code",
   "execution_count": 22,
   "metadata": {},
   "outputs": [
    {
     "data": {
      "text/html": [
       "<div>\n",
       "<style scoped>\n",
       "    .dataframe tbody tr th:only-of-type {\n",
       "        vertical-align: middle;\n",
       "    }\n",
       "\n",
       "    .dataframe tbody tr th {\n",
       "        vertical-align: top;\n",
       "    }\n",
       "\n",
       "    .dataframe thead th {\n",
       "        text-align: right;\n",
       "    }\n",
       "</style>\n",
       "<table border=\"1\" class=\"dataframe\">\n",
       "  <thead>\n",
       "    <tr style=\"text-align: right;\">\n",
       "      <th></th>\n",
       "      <th>Gender</th>\n",
       "      <th>age</th>\n",
       "      <th>education</th>\n",
       "      <th>currentSmoker</th>\n",
       "      <th>prevalentStroke</th>\n",
       "      <th>prevalentHyp</th>\n",
       "      <th>diabetes</th>\n",
       "      <th>sysBP</th>\n",
       "      <th>diaBP</th>\n",
       "      <th>Heart_ stroke</th>\n",
       "      <th>cigsPerDay</th>\n",
       "      <th>BPMeds</th>\n",
       "      <th>totChol</th>\n",
       "      <th>BMI</th>\n",
       "      <th>heartRate</th>\n",
       "      <th>glucose</th>\n",
       "    </tr>\n",
       "  </thead>\n",
       "  <tbody>\n",
       "    <tr>\n",
       "      <th>0</th>\n",
       "      <td>Male</td>\n",
       "      <td>39</td>\n",
       "      <td>postgraduate</td>\n",
       "      <td>0</td>\n",
       "      <td>no</td>\n",
       "      <td>0</td>\n",
       "      <td>0</td>\n",
       "      <td>106.0</td>\n",
       "      <td>70.0</td>\n",
       "      <td>No</td>\n",
       "      <td>0.0</td>\n",
       "      <td>0.0</td>\n",
       "      <td>195.0</td>\n",
       "      <td>26.97</td>\n",
       "      <td>80.0</td>\n",
       "      <td>77.0</td>\n",
       "    </tr>\n",
       "    <tr>\n",
       "      <th>1</th>\n",
       "      <td>Female</td>\n",
       "      <td>46</td>\n",
       "      <td>primaryschool</td>\n",
       "      <td>0</td>\n",
       "      <td>no</td>\n",
       "      <td>0</td>\n",
       "      <td>0</td>\n",
       "      <td>121.0</td>\n",
       "      <td>81.0</td>\n",
       "      <td>No</td>\n",
       "      <td>0.0</td>\n",
       "      <td>0.0</td>\n",
       "      <td>250.0</td>\n",
       "      <td>28.73</td>\n",
       "      <td>95.0</td>\n",
       "      <td>76.0</td>\n",
       "    </tr>\n",
       "    <tr>\n",
       "      <th>2</th>\n",
       "      <td>Male</td>\n",
       "      <td>48</td>\n",
       "      <td>uneducated</td>\n",
       "      <td>1</td>\n",
       "      <td>no</td>\n",
       "      <td>0</td>\n",
       "      <td>0</td>\n",
       "      <td>127.5</td>\n",
       "      <td>80.0</td>\n",
       "      <td>No</td>\n",
       "      <td>20.0</td>\n",
       "      <td>0.0</td>\n",
       "      <td>245.0</td>\n",
       "      <td>25.34</td>\n",
       "      <td>75.0</td>\n",
       "      <td>70.0</td>\n",
       "    </tr>\n",
       "    <tr>\n",
       "      <th>3</th>\n",
       "      <td>Female</td>\n",
       "      <td>61</td>\n",
       "      <td>graduate</td>\n",
       "      <td>1</td>\n",
       "      <td>no</td>\n",
       "      <td>1</td>\n",
       "      <td>0</td>\n",
       "      <td>150.0</td>\n",
       "      <td>95.0</td>\n",
       "      <td>yes</td>\n",
       "      <td>30.0</td>\n",
       "      <td>0.0</td>\n",
       "      <td>225.0</td>\n",
       "      <td>28.58</td>\n",
       "      <td>65.0</td>\n",
       "      <td>103.0</td>\n",
       "    </tr>\n",
       "    <tr>\n",
       "      <th>4</th>\n",
       "      <td>Female</td>\n",
       "      <td>46</td>\n",
       "      <td>graduate</td>\n",
       "      <td>1</td>\n",
       "      <td>no</td>\n",
       "      <td>0</td>\n",
       "      <td>0</td>\n",
       "      <td>130.0</td>\n",
       "      <td>84.0</td>\n",
       "      <td>No</td>\n",
       "      <td>23.0</td>\n",
       "      <td>0.0</td>\n",
       "      <td>285.0</td>\n",
       "      <td>23.10</td>\n",
       "      <td>85.0</td>\n",
       "      <td>85.0</td>\n",
       "    </tr>\n",
       "  </tbody>\n",
       "</table>\n",
       "</div>"
      ],
      "text/plain": [
       "   Gender  age      education  currentSmoker prevalentStroke  prevalentHyp  \\\n",
       "0    Male   39   postgraduate              0              no             0   \n",
       "1  Female   46  primaryschool              0              no             0   \n",
       "2    Male   48     uneducated              1              no             0   \n",
       "3  Female   61       graduate              1              no             1   \n",
       "4  Female   46       graduate              1              no             0   \n",
       "\n",
       "   diabetes  sysBP  diaBP Heart_ stroke  cigsPerDay  BPMeds  totChol    BMI  \\\n",
       "0         0  106.0   70.0            No         0.0     0.0    195.0  26.97   \n",
       "1         0  121.0   81.0            No         0.0     0.0    250.0  28.73   \n",
       "2         0  127.5   80.0            No        20.0     0.0    245.0  25.34   \n",
       "3         0  150.0   95.0           yes        30.0     0.0    225.0  28.58   \n",
       "4         0  130.0   84.0            No        23.0     0.0    285.0  23.10   \n",
       "\n",
       "   heartRate  glucose  \n",
       "0       80.0     77.0  \n",
       "1       95.0     76.0  \n",
       "2       75.0     70.0  \n",
       "3       65.0    103.0  \n",
       "4       85.0     85.0  "
      ]
     },
     "execution_count": 22,
     "metadata": {},
     "output_type": "execute_result"
    }
   ],
   "source": [
    "# check if there is any missing values\n",
    "imputed_df.isna().sum()\n",
    "imputed_df.head()"
   ]
  },
  {
   "cell_type": "code",
   "execution_count": 23,
   "metadata": {},
   "outputs": [
    {
     "name": "stderr",
     "output_type": "stream",
     "text": [
      "C:\\Users\\georg\\AppData\\Local\\Temp\\ipykernel_19688\\48489373.py:4: FutureWarning: The default value of numeric_only in DataFrame.var is deprecated. In a future version, it will default to False. In addition, specifying 'numeric_only=None' is deprecated. Select only valid columns or specify the value of numeric_only to silence this warning.\n",
      "  variance = imputed_df.var()\n"
     ]
    },
    {
     "data": {
      "image/png": "[encoded data removed]",
      "text/plain": [
       "<Figure size 640x480 with 1 Axes>"
      ]
     },
     "metadata": {},
     "output_type": "display_data"
    }
   ],
   "source": [
    "import matplotlib.pyplot as plt\n",
    "# perform a variance check on the imputed data\n",
    "# Check the variance of each column in the imputed dataset\n",
    "variance = imputed_df.var()\n",
    "\n",
    "# plot the variances\n",
    "columns_to_plot = numeric_columns\n",
    "variances = [imputed_df[column].var() for column in columns_to_plot]\n",
    "\n",
    "plt.bar(columns_to_plot, variances)\n",
    "plt.xticks(rotation=45)\n",
    "plt.xlabel('Columns')\n",
    "plt.ylabel('Variance')\n",
    "plt.title('Variance of Selected Columns')\n",
    "plt.show()"
   ]
  },
  {
   "cell_type": "code",
   "execution_count": 24,
   "metadata": {},
   "outputs": [
    {
     "data": {
      "text/plain": [
       "Index(['Gender', 'age', 'education', 'currentSmoker', 'prevalentStroke',\n",
       "       'prevalentHyp', 'diabetes', 'sysBP', 'diaBP', 'Heart_ stroke',\n",
       "       'cigsPerDay', 'BPMeds', 'totChol', 'BMI', 'heartRate', 'glucose'],\n",
       "      dtype='object')"
      ]
     },
     "execution_count": 24,
     "metadata": {},
     "output_type": "execute_result"
    }
   ],
   "source": [
    "imputed_df.columns"
   ]
  },
  {
   "cell_type": "code",
   "execution_count": 25,
   "metadata": {},
   "outputs": [
    {
     "name": "stdout",
     "output_type": "stream",
     "text": [
      "              precision    recall  f1-score   support\n",
      "\n",
      "          No       0.86      1.00      0.92      1084\n",
      "         yes       0.62      0.04      0.08       188\n",
      "\n",
      "    accuracy                           0.85      1272\n",
      "   macro avg       0.74      0.52      0.50      1272\n",
      "weighted avg       0.82      0.85      0.80      1272\n",
      "\n"
     ]
    },
    {
     "name": "stderr",
     "output_type": "stream",
     "text": [
      "c:\\Users\\georg\\AppData\\Local\\Programs\\Python\\Python39\\lib\\site-packages\\sklearn\\linear_model\\_logistic.py:458: ConvergenceWarning: lbfgs failed to converge (status=1):\n",
      "STOP: TOTAL NO. of ITERATIONS REACHED LIMIT.\n",
      "\n",
      "Increase the number of iterations (max_iter) or scale the data as shown in:\n",
      "    https://scikit-learn.org/stable/modules/preprocessing.html\n",
      "Please also refer to the documentation for alternative solver options:\n",
      "    https://scikit-learn.org/stable/modules/linear_model.html#logistic-regression\n",
      "  n_iter_i = _check_optimize_result(\n"
     ]
    }
   ],
   "source": [
    "from sklearn.linear_model import LogisticRegression\n",
    "from sklearn.model_selection import train_test_split\n",
    "from sklearn.metrics import accuracy_score\n",
    "from sklearn.metrics import confusion_matrix\n",
    "from sklearn.metrics import classification_report\n",
    "\n",
    "X = imputed_df[['age', 'cigsPerDay', 'totChol', 'sysBP', 'diaBP', 'BMI', 'heartRate', 'glucose', 'Gender']]\n",
    "y = imputed_df['Heart_ stroke']\n",
    "\n",
    "# Convert categorical variables to dummy variables (if any)\n",
    "X = pd.get_dummies(X,drop_first=True)\n",
    "\n",
    "\n",
    "# Split the dataset into training and testing sets\n",
    "X_train, X_test, y_train, y_test = train_test_split(X, y, test_size=0.3, random_state=42)\n",
    "\n",
    "# Fit the model to the training data\n",
    "lr = LogisticRegression()\n",
    "lr.fit(X_train, y_train)\n",
    "y_pred = lr.predict(X_test)\n",
    "print(classification_report(y_test, y_pred))"
   ]
  },
  {
   "attachments": {},
   "cell_type": "markdown",
   "metadata": {},
   "source": [
    "The first row shows the precision, recall, and F1-score for the \"No\" class, which represents patients who do not have heart stroke. The precision is the proportion of patients predicted to not have heart stroke who actually do not have it, and it is 86%. The recall is the proportion of patients who actually do not have heart stroke and are correctly identified by the model, and it is 100%. The F1-score is a combination of precision and recall, and it is 92%. The support indicates the number of patients in this class.\n",
    "\n",
    "The second row shows the precision, recall, and F1-score for the \"yes\" class, which represents patients who have heart stroke. The precision is 62%, meaning that 62% of the patients predicted to have heart stroke actually have it. The recall is 4%, meaning that only 4% of the patients who actually have heart stroke are correctly identified by the model. The F1-score is 8%, which is a relatively low value. The support indicates the number of patients in this class.\n",
    "\n",
    "The accuracy of the model is 85%, meaning that the model correctly classified 85% of the patients in the testing set.\n",
    "\n",
    "In general, the model performs well in identifying patients who do not have heart stroke (precision of 86% and recall of 100%). However, it is less accurate in identifying patients who do have heart stroke (precision of 62% and recall of 4%). The F1-score for the \"yes\" class is particularly low at 8%, which means that the model struggles to correctly classify patients with heart stroke. Therefore, further improvements to the model may be needed before it can be used to make reliable predictions."
   ]
  },
  {
   "cell_type": "code",
   "execution_count": 26,
   "metadata": {},
   "outputs": [
    {
     "data": {
      "image/png": "[encoded data removed]",
      "text/plain": [
       "<Figure size 640x480 with 2 Axes>"
      ]
     },
     "metadata": {},
     "output_type": "display_data"
    }
   ],
   "source": [
    "import matplotlib.pyplot as plt\n",
    "from sklearn.metrics import confusion_matrix\n",
    "\n",
    "# Calculate the confusion matrix\n",
    "conf_matrix = confusion_matrix(y_test, y_pred)\n",
    "\n",
    "# Define the labels for the x and y axes\n",
    "classes = ['No', 'Yes']\n",
    "\n",
    "# Create the plot\n",
    "plt.imshow(conf_matrix, cmap=plt.cm.Blues)\n",
    "plt.xticks([0, 1], classes)\n",
    "plt.yticks([0, 1], classes)\n",
    "plt.xlabel('Predicted label')\n",
    "plt.ylabel('True label')\n",
    "plt.colorbar()\n",
    "\n",
    "# Add the counts to the plot\n",
    "for i in range(2):\n",
    "    for j in range(2):\n",
    "        plt.text(j, i, conf_matrix[i, j], ha='center', va='center', color='white')\n",
    "\n",
    "# Show the plot\n",
    "plt.show()\n"
   ]
  },
  {
   "attachments": {},
   "cell_type": "markdown",
   "metadata": {},
   "source": [
    "A confusion matrix above that shows the number of true positive, true negative, false positive, and false negative predictions made by our machine learning model. In this case, our model is predicting the likelihood of a patient experiencing heart stroke based on a number of factors, such as age, blood pressure, and gender. The rows of the matrix represent the true outcomes (actual heart stroke occurrence), while the columns represent the predicted outcomes (model's prediction).\n",
    "\n",
    "For example, the top left cell of the matrix represents the number of patients who did not experience heart stroke in reality (true negative) and were also correctly identified by our model (predicted negative). The bottom right cell represents the number of patients who did experience heart stroke (true positive) and were correctly identified by our model (predicted positive). The other two cells represent the cases where our model made incorrect predictions (false positives and false negatives).\n",
    "\n",
    "The precision, recall, and f1-score values shown in the classification report provide additional metrics for evaluating the performance of our model in making these predictions. By analyzing the confusion matrix and the associated metrics, we can better understand how our model is performing and identify areas where it may need improvement."
   ]
  },
  {
   "cell_type": "code",
   "execution_count": 27,
   "metadata": {},
   "outputs": [
    {
     "data": {
      "image/png": "[encoded data removed]",
      "text/plain": [
       "<Figure size 640x480 with 1 Axes>"
      ]
     },
     "metadata": {},
     "output_type": "display_data"
    }
   ],
   "source": [
    "import matplotlib.pyplot as plt\n",
    "\n",
    "plt.hist(df['sysBP'], bins=20)\n",
    "plt.xlabel('Systolic Blood Pressure')\n",
    "plt.ylabel('Frequency')\n",
    "plt.title('Histogram of Systolic Blood Pressure')\n",
    "plt.show()\n"
   ]
  },
  {
   "attachments": {},
   "cell_type": "markdown",
   "metadata": {},
   "source": [
    "This histogram shows the distribution of systolic blood pressure among the patients in our dataset. The x-axis represents the range of blood pressure values, and the y-axis shows the number of patients that fall within each range. We can see that the majority of patients have a systolic blood pressure between 100 and 150, with a smaller number having higher or lower blood pressure. Understanding the distribution of blood pressure values in our dataset can help us identify potential health risks and design targeted interventions to improve patient health."
   ]
  },
  {
   "cell_type": "markdown",
   "metadata": {},
   "source": []
  }
 ],
 "metadata": {
  "kernelspec": {
   "display_name": "venv",
   "language": "python",
   "name": "python3"
  },
  "language_info": {
   "codemirror_mode": {
    "name": "ipython",
    "version": 3
   },
   "file_extension": ".py",
   "mimetype": "text/x-python",
   "name": "python",
   "nbconvert_exporter": "python",
   "pygments_lexer": "ipython3",
   "version": "3.9.7"
  },
  "orig_nbformat": 4
 },
 "nbformat": 4,
 "nbformat_minor": 2
}
